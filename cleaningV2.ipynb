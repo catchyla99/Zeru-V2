{
  "nbformat": 4,
  "nbformat_minor": 0,
  "metadata": {
    "colab": {
      "provenance": [],
      "authorship_tag": "ABX9TyM7Avidg8CJb+gJCJPqbrpb",
      "include_colab_link": true
    },
    "kernelspec": {
      "name": "python3",
      "display_name": "Python 3"
    },
    "language_info": {
      "name": "python"
    }
  },
  "cells": [
    {
      "cell_type": "markdown",
      "metadata": {
        "id": "view-in-github",
        "colab_type": "text"
      },
      "source": [
        "<a href=\"https://colab.research.google.com/github/catchyla99/Zeru-V2/blob/main/cleaningV2.ipynb\" target=\"_parent\"><img src=\"https://colab.research.google.com/assets/colab-badge.svg\" alt=\"Open In Colab\"/></a>"
      ]
    },
    {
      "cell_type": "code",
      "execution_count": null,
      "metadata": {
        "colab": {
          "base_uri": "https://localhost:8080/"
        },
        "id": "yH9GccvNudgc",
        "outputId": "c5867532-0e29-4b99-cc21-5f26f5770277"
      },
      "outputs": [
        {
          "output_type": "stream",
          "name": "stdout",
          "text": [
            "Mounted at /content/drive\n",
            "Found 96 JSON files.\n"
          ]
        },
        {
          "output_type": "stream",
          "name": "stderr",
          "text": [
            "100%|██████████| 96/96 [01:19<00:00,  1.21it/s]\n"
          ]
        },
        {
          "output_type": "stream",
          "name": "stdout",
          "text": [
            "Total records extracted: 959305\n",
            "Saved combined CSV to /content/drive/My Drive/ZERU/compoundV2_all_transactions.csv\n"
          ]
        }
      ],
      "source": [
        "from google.colab import drive\n",
        "drive.mount('/content/drive')\n",
        "\n",
        "import os\n",
        "import glob\n",
        "import json\n",
        "import pandas as pd\n",
        "from tqdm import tqdm\n",
        "\n",
        "data_folder = '/content/drive/My Drive/ZERU'\n",
        "\n",
        "json_files = glob.glob(os.path.join(data_folder, '*.json'))\n",
        "print(f\"Found {len(json_files)} JSON files.\")\n",
        "\n",
        "def flatten_tx(tx):\n",
        "    return {\n",
        "        'wallet': tx.get('account', {}).get('id'),\n",
        "        'amount': tx.get('amount'),\n",
        "        'amountUSD': tx.get('amountUSD'),\n",
        "        'asset_id': tx.get('asset', {}).get('id'),\n",
        "        'asset_symbol': tx.get('asset', {}).get('symbol'),\n",
        "        'hash': tx.get('hash'),\n",
        "        'tx_id': tx.get('id'),\n",
        "        'timestamp': tx.get('timestamp')\n",
        "    }\n",
        "\n",
        "all_records = []\n",
        "for file in tqdm(json_files):\n",
        "    with open(file, 'r') as f:\n",
        "        try:\n",
        "            data = json.load(f)\n",
        "            if isinstance(data, dict):\n",
        "                tx_list = next(iter(data.values()))\n",
        "            elif isinstance(data, list):\n",
        "                tx_list = data\n",
        "            else:\n",
        "                continue\n",
        "            for tx in tx_list:\n",
        "                all_records.append(flatten_tx(tx))\n",
        "        except Exception as e:\n",
        "            print(f\"Error reading {file}: {e}\")\n",
        "\n",
        "print(f\"Total records extracted: {len(all_records)}\")\n",
        "\n",
        "df = pd.DataFrame(all_records)\n",
        "\n",
        "output_csv = '/content/drive/My Drive/ZERU/compoundV2_all_transactions.csv'\n",
        "df.to_csv(output_csv, index=False)\n",
        "print(f\"Saved combined CSV to {output_csv}\")\n"
      ]
    },
    {
      "cell_type": "code",
      "source": [
        "import pandas as pd\n",
        "\n",
        "csv_path = '/content/drive/My Drive/ZERU/compoundV2_all_transactions.csv'\n",
        "df = pd.read_csv(csv_path)\n",
        "\n",
        "print(df.shape)\n",
        "print(df.head())\n",
        "print(df.info())\n",
        "print(df.isnull().sum())\n",
        "\n",
        "df.drop_duplicates(inplace=True)\n",
        "\n",
        "df.dropna(subset=['wallet', 'amount', 'amountUSD', 'asset_symbol', 'timestamp'], inplace=True)\n",
        "\n",
        "df['amount'] = pd.to_numeric(df['amount'], errors='coerce')\n",
        "df['amountUSD'] = pd.to_numeric(df['amountUSD'], errors='coerce')\n",
        "df['timestamp'] = pd.to_datetime(df['timestamp'], unit='s', errors='coerce')\n",
        "\n",
        "df.dropna(subset=['amount', 'amountUSD', 'timestamp'], inplace=True)\n",
        "\n",
        "df.columns = [c.lower() for c in df.columns]\n",
        "\n",
        "cleaned_csv_path = '/content/drive/My Drive/ZERU/compoundV2_all_transactions_cleaned.csv'\n",
        "df.to_csv(cleaned_csv_path, index=False)\n",
        "print(f\"Cleaned CSV saved to {cleaned_csv_path}\")\n"
      ],
      "metadata": {
        "colab": {
          "base_uri": "https://localhost:8080/"
        },
        "id": "1WUJgjx-vyQv",
        "outputId": "36dddd4e-42b4-4c15-b8f3-8a69e4150c74"
      },
      "execution_count": null,
      "outputs": [
        {
          "output_type": "stream",
          "name": "stdout",
          "text": [
            "(959305, 8)\n",
            "                                       wallet                 amount  \\\n",
            "0  0x9e21d7f1d1878be7e4e5f0c8750b09b09414be44  293025918296213842664   \n",
            "1  0x9e21d7f1d1878be7e4e5f0c8750b09b09414be44  233591042300947866741   \n",
            "2  0x3eab4037a2e7f4d4d0946c091fe135838221f2b6  493866984581287182336   \n",
            "3  0x794ad3af58b56522b80aa7e9bc04f042c55d5b2f              300000000   \n",
            "4  0x9e21d7f1d1878be7e4e5f0c8750b09b09414be44  476901862957734543875   \n",
            "\n",
            "    amountUSD                                    asset_id asset_symbol  \\\n",
            "0  294.098362  0x89d24a6b4ccb1b6faa2625fe562bdd9a23260359          DAI   \n",
            "1  236.936134  0x89d24a6b4ccb1b6faa2625fe562bdd9a23260359          DAI   \n",
            "2  498.044019  0x89d24a6b4ccb1b6faa2625fe562bdd9a23260359          DAI   \n",
            "3  300.000000  0xa0b86991c6218b36c1d19d4a2e9eb0ce3606eb48         USDC   \n",
            "4  476.020148  0x89d24a6b4ccb1b6faa2625fe562bdd9a23260359          DAI   \n",
            "\n",
            "                                                hash  \\\n",
            "0  0xc07a5d8ca08cd1e01a8324d6235da1df7d58720500ce...   \n",
            "1  0x11734b04bcd03f2cde375e4d13fafab9d17eef3d7aef...   \n",
            "2  0xe611412cb9164421a95070e96b041ee12fca19a04aaa...   \n",
            "3  0xcb7f5145eb6779cd18789251094f20587e357adb0f6e...   \n",
            "4  0xc0809ef3102b874c7d55aafb6abddf8b8f5cbe743197...   \n",
            "\n",
            "                                               tx_id   timestamp  \n",
            "0  0xc07a5d8ca08cd1e01a8324d6235da1df7d58720500ce...  1562192556  \n",
            "1  0x11734b04bcd03f2cde375e4d13fafab9d17eef3d7aef...  1562192990  \n",
            "2  0xe611412cb9164421a95070e96b041ee12fca19a04aaa...  1562193000  \n",
            "3  0xcb7f5145eb6779cd18789251094f20587e357adb0f6e...  1562193019  \n",
            "4  0xc0809ef3102b874c7d55aafb6abddf8b8f5cbe743197...  1562193418  \n",
            "<class 'pandas.core.frame.DataFrame'>\n",
            "RangeIndex: 959305 entries, 0 to 959304\n",
            "Data columns (total 8 columns):\n",
            " #   Column        Non-Null Count   Dtype  \n",
            "---  ------        --------------   -----  \n",
            " 0   wallet        959305 non-null  object \n",
            " 1   amount        959305 non-null  object \n",
            " 2   amountUSD     959305 non-null  float64\n",
            " 3   asset_id      959305 non-null  object \n",
            " 4   asset_symbol  959305 non-null  object \n",
            " 5   hash          959305 non-null  object \n",
            " 6   tx_id         959305 non-null  object \n",
            " 7   timestamp     959305 non-null  int64  \n",
            "dtypes: float64(1), int64(1), object(6)\n",
            "memory usage: 58.6+ MB\n",
            "None\n",
            "wallet          0\n",
            "amount          0\n",
            "amountUSD       0\n",
            "asset_id        0\n",
            "asset_symbol    0\n",
            "hash            0\n",
            "tx_id           0\n",
            "timestamp       0\n",
            "dtype: int64\n",
            "Cleaned CSV saved to /content/drive/My Drive/ZERU/compoundV2_all_transactions_cleaned.csv\n"
          ]
        }
      ]
    },
    {
      "cell_type": "code",
      "source": [
        "import pandas as pd\n",
        "\n",
        "df = pd.read_csv('/content/drive/My Drive/ZERU/compoundV2_all_transactions.csv')\n",
        "\n",
        "print(df.head())\n",
        "print(df.info())\n",
        "\n",
        "df.drop_duplicates(inplace=True)\n",
        "\n",
        "df.dropna(subset=['wallet', 'amount', 'amountUSD', 'asset_symbol', 'timestamp'], inplace=True)\n",
        "\n",
        "df['amount'] = pd.to_numeric(df['amount'], errors='coerce')\n",
        "df['amountUSD'] = pd.to_numeric(df['amountUSD'], errors='coerce')\n",
        "df['timestamp'] = pd.to_datetime(df['timestamp'], unit='s', errors='coerce')\n",
        "\n",
        "df.dropna(subset=['amount', 'amountUSD', 'timestamp'], inplace=True)\n",
        "\n",
        "df.to_csv('/content/drive/My Drive/ZERU/compoundV2_all_transactions_cleaned.csv', index=False)\n"
      ],
      "metadata": {
        "colab": {
          "base_uri": "https://localhost:8080/"
        },
        "id": "N7FA1JnpweL9",
        "outputId": "97ab6a4e-ee88-400a-a13f-5b75124f3f7e"
      },
      "execution_count": null,
      "outputs": [
        {
          "output_type": "stream",
          "name": "stdout",
          "text": [
            "                                       wallet                 amount  \\\n",
            "0  0x9e21d7f1d1878be7e4e5f0c8750b09b09414be44  293025918296213842664   \n",
            "1  0x9e21d7f1d1878be7e4e5f0c8750b09b09414be44  233591042300947866741   \n",
            "2  0x3eab4037a2e7f4d4d0946c091fe135838221f2b6  493866984581287182336   \n",
            "3  0x794ad3af58b56522b80aa7e9bc04f042c55d5b2f              300000000   \n",
            "4  0x9e21d7f1d1878be7e4e5f0c8750b09b09414be44  476901862957734543875   \n",
            "\n",
            "    amountUSD                                    asset_id asset_symbol  \\\n",
            "0  294.098362  0x89d24a6b4ccb1b6faa2625fe562bdd9a23260359          DAI   \n",
            "1  236.936134  0x89d24a6b4ccb1b6faa2625fe562bdd9a23260359          DAI   \n",
            "2  498.044019  0x89d24a6b4ccb1b6faa2625fe562bdd9a23260359          DAI   \n",
            "3  300.000000  0xa0b86991c6218b36c1d19d4a2e9eb0ce3606eb48         USDC   \n",
            "4  476.020148  0x89d24a6b4ccb1b6faa2625fe562bdd9a23260359          DAI   \n",
            "\n",
            "                                                hash  \\\n",
            "0  0xc07a5d8ca08cd1e01a8324d6235da1df7d58720500ce...   \n",
            "1  0x11734b04bcd03f2cde375e4d13fafab9d17eef3d7aef...   \n",
            "2  0xe611412cb9164421a95070e96b041ee12fca19a04aaa...   \n",
            "3  0xcb7f5145eb6779cd18789251094f20587e357adb0f6e...   \n",
            "4  0xc0809ef3102b874c7d55aafb6abddf8b8f5cbe743197...   \n",
            "\n",
            "                                               tx_id   timestamp  \n",
            "0  0xc07a5d8ca08cd1e01a8324d6235da1df7d58720500ce...  1562192556  \n",
            "1  0x11734b04bcd03f2cde375e4d13fafab9d17eef3d7aef...  1562192990  \n",
            "2  0xe611412cb9164421a95070e96b041ee12fca19a04aaa...  1562193000  \n",
            "3  0xcb7f5145eb6779cd18789251094f20587e357adb0f6e...  1562193019  \n",
            "4  0xc0809ef3102b874c7d55aafb6abddf8b8f5cbe743197...  1562193418  \n",
            "<class 'pandas.core.frame.DataFrame'>\n",
            "RangeIndex: 959305 entries, 0 to 959304\n",
            "Data columns (total 8 columns):\n",
            " #   Column        Non-Null Count   Dtype  \n",
            "---  ------        --------------   -----  \n",
            " 0   wallet        959305 non-null  object \n",
            " 1   amount        959305 non-null  object \n",
            " 2   amountUSD     959305 non-null  float64\n",
            " 3   asset_id      959305 non-null  object \n",
            " 4   asset_symbol  959305 non-null  object \n",
            " 5   hash          959305 non-null  object \n",
            " 6   tx_id         959305 non-null  object \n",
            " 7   timestamp     959305 non-null  int64  \n",
            "dtypes: float64(1), int64(1), object(6)\n",
            "memory usage: 58.6+ MB\n",
            "None\n"
          ]
        }
      ]
    }
  ]
}